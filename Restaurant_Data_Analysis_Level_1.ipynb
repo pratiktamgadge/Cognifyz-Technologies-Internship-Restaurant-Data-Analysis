{
  "nbformat": 4,
  "nbformat_minor": 0,
  "metadata": {
    "colab": {
      "provenance": [],
      "authorship_tag": "ABX9TyOpIsbqEFaBrrLfH/ZZON2C",
      "include_colab_link": true
    },
    "kernelspec": {
      "name": "python3",
      "display_name": "Python 3"
    },
    "language_info": {
      "name": "python"
    }
  },
  "cells": [
    {
      "cell_type": "markdown",
      "metadata": {
        "id": "view-in-github",
        "colab_type": "text"
      },
      "source": [
        "<a href=\"https://colab.research.google.com/github/pratiktamgadge/Cognifyz-Technologies-Internship-Restaurant-Data-Analysis/blob/main/Restaurant_Data_Analysis_Level_1.ipynb\" target=\"_parent\"><img src=\"https://colab.research.google.com/assets/colab-badge.svg\" alt=\"Open In Colab\"/></a>"
      ]
    },
    {
      "cell_type": "markdown",
      "source": [
        "# **Project Name**    - Restaurant_Data_Analysis"
      ],
      "metadata": {
        "id": "uovslkArMiiE"
      }
    },
    {
      "cell_type": "markdown",
      "source": [
        "##### **Project Type**    - EDA\n",
        "##### **Industry**    - Cognifyz Technologies\n",
        "##### **Contribution**    - Individual\n",
        "##### **Member Name -** Pratik Tamgadge\n",
        "##### **Level -** 1"
      ],
      "metadata": {
        "id": "0Gwum6c7MIOb"
      }
    },
    {
      "cell_type": "markdown",
      "source": [
        "# **Project Summary -**"
      ],
      "metadata": {
        "id": "ml-8xu33MrQy"
      }
    },
    {
      "cell_type": "markdown",
      "source": [
        " **Key Tasks in Level 1:**\n",
        "\n",
        " **Task-1: Top Cuisines**\n",
        "\n",
        "1) Determine the top three most\n",
        "common cuisines in the dataset.\n",
        "\n",
        "2) Calculate the percentage of\n",
        "restaurants that serve each of the top\n",
        "cuisines.\n",
        "\n",
        " **Task-2: City Analysis**\n",
        "\n",
        "1) Identify the city with the highest number\n",
        "of restaurants in the dataset.\n",
        "\n",
        "2) Calculate the average rating for\n",
        "restaurants in each city.\n",
        "Determine the city with the highest\n",
        "average rating.\n",
        "\n",
        "**Task-3: Price Range Distribution**\n",
        "\n",
        "1) Create a histogram or bar chart to\n",
        "visualize the distribution of price ranges\n",
        "among the restaurants.\n",
        "\n",
        "2) Calculate the percentage of restaurants\n",
        "in each price range category.\n",
        "\n",
        "**Task-4: Online Delivery**\n",
        "\n",
        "1) Determine the percentage of restaurants\n",
        "that offer online delivery.\n",
        "\n",
        "2) Compare the average ratings of restaurants\n",
        "with and without online delivery."
      ],
      "metadata": {
        "id": "nlXJzUkhNVGD"
      }
    },
    {
      "cell_type": "markdown",
      "source": [
        "# ***Let's Begin***"
      ],
      "metadata": {
        "id": "336uX4n0Oj6v"
      }
    },
    {
      "cell_type": "markdown",
      "source": [
        "## ***Task 1: Top Cuisines***"
      ],
      "metadata": {
        "id": "iCdq-QyvQr6c"
      }
    },
    {
      "cell_type": "markdown",
      "source": [
        "### Import Libraries"
      ],
      "metadata": {
        "id": "qGE15-1uRFMP"
      }
    },
    {
      "cell_type": "code",
      "source": [
        "# Importing Libraries\n",
        "import pandas as pd\n",
        "import numpy as np\n",
        "\n",
        "# Visualization Libraries\n",
        "import matplotlib.pyplot as plt\n",
        "%matplotlib inline\n",
        "import seaborn as sns"
      ],
      "metadata": {
        "id": "G7noS5XrMnML"
      },
      "execution_count": 1,
      "outputs": []
    },
    {
      "cell_type": "code",
      "source": [
        "import os\n",
        "from google.colab import drive\n",
        "drive.mount('/content/drive')"
      ],
      "metadata": {
        "colab": {
          "base_uri": "https://localhost:8080/"
        },
        "id": "eDDuZf9oOksz",
        "outputId": "be37c844-252a-4d13-cb51-c221d097c432"
      },
      "execution_count": 2,
      "outputs": [
        {
          "output_type": "stream",
          "name": "stdout",
          "text": [
            "Mounted at /content/drive\n"
          ]
        }
      ]
    },
    {
      "cell_type": "code",
      "source": [
        "# Load Dataset from Google Drive\n",
        "df = pd.read_csv(\"/content/drive/MyDrive/Dataset .csv\")"
      ],
      "metadata": {
        "id": "r-QW1VtARcki"
      },
      "execution_count": 3,
      "outputs": []
    },
    {
      "cell_type": "code",
      "source": [
        "# Dataset Rows & Columns count\n",
        "print(df.shape)\n",
        "print(df.columns)"
      ],
      "metadata": {
        "colab": {
          "base_uri": "https://localhost:8080/"
        },
        "id": "Q4CiDJDPSBJK",
        "outputId": "65ce53e6-9177-4443-d588-dd0f5669142a"
      },
      "execution_count": 6,
      "outputs": [
        {
          "output_type": "stream",
          "name": "stdout",
          "text": [
            "(9551, 21)\n",
            "Index(['Restaurant ID', 'Restaurant Name', 'Country Code', 'City', 'Address',\n",
            "       'Locality', 'Locality Verbose', 'Longitude', 'Latitude', 'Cuisines',\n",
            "       'Average Cost for two', 'Currency', 'Has Table booking',\n",
            "       'Has Online delivery', 'Is delivering now', 'Switch to order menu',\n",
            "       'Price range', 'Aggregate rating', 'Rating color', 'Rating text',\n",
            "       'Votes'],\n",
            "      dtype='object')\n"
          ]
        }
      ]
    },
    {
      "cell_type": "code",
      "source": [
        "# Dataset Column cuisines\n",
        "print(df['Cuisines'])"
      ],
      "metadata": {
        "colab": {
          "base_uri": "https://localhost:8080/"
        },
        "id": "IdHHI8zOShK-",
        "outputId": "ca271681-f2cd-41ca-a4be-b1e50cc87bad"
      },
      "execution_count": 7,
      "outputs": [
        {
          "output_type": "stream",
          "name": "stdout",
          "text": [
            "0             French, Japanese, Desserts\n",
            "1                               Japanese\n",
            "2       Seafood, Asian, Filipino, Indian\n",
            "3                        Japanese, Sushi\n",
            "4                       Japanese, Korean\n",
            "                      ...               \n",
            "9546                             Turkish\n",
            "9547     World Cuisine, Patisserie, Cafe\n",
            "9548              Italian, World Cuisine\n",
            "9549                     Restaurant Cafe\n",
            "9550                                Cafe\n",
            "Name: Cuisines, Length: 9551, dtype: object\n"
          ]
        }
      ]
    },
    {
      "cell_type": "markdown",
      "source": [
        "### 1) Determine the top three most common cuisines in the dataset."
      ],
      "metadata": {
        "id": "qGpfgrzzTxMC"
      }
    },
    {
      "cell_type": "code",
      "source": [
        "cuisine_count= df['Cuisines'].str.split(', ').explode('Cuisines').value_counts()\n",
        "print(cuisine_count)\n",
        "top_cuisine=cuisine_count.head(3)\n",
        "print(\"The Top 3 Cuisines are : \",top_cuisine)"
      ],
      "metadata": {
        "colab": {
          "base_uri": "https://localhost:8080/"
        },
        "id": "FS1y_-9VSu0n",
        "outputId": "5410ea7c-8498-46ea-a83b-5b97c41a55e3"
      },
      "execution_count": 9,
      "outputs": [
        {
          "output_type": "stream",
          "name": "stdout",
          "text": [
            "Cuisines\n",
            "North Indian      3960\n",
            "Chinese           2735\n",
            "Fast Food         1986\n",
            "Mughlai            995\n",
            "Italian            764\n",
            "                  ... \n",
            "Fish and Chips       1\n",
            "Malwani              1\n",
            "Cuisine Varies       1\n",
            "Soul Food            1\n",
            "B�_rek               1\n",
            "Name: count, Length: 145, dtype: int64\n",
            "The Top 3 Cuisines are :  Cuisines\n",
            "North Indian    3960\n",
            "Chinese         2735\n",
            "Fast Food       1986\n",
            "Name: count, dtype: int64\n"
          ]
        }
      ]
    },
    {
      "cell_type": "code",
      "source": [
        "colours = ['green', 'orange', 'red']\n",
        "plt.bar(top_cuisine.index, top_cuisine.values, color=colours)\n",
        "plt.xlabel('Cuisine')\n",
        "plt.ylabel('Count')\n",
        "plt.title('Top Three Cuisines')\n",
        "plt.show()"
      ],
      "metadata": {
        "colab": {
          "base_uri": "https://localhost:8080/",
          "height": 472
        },
        "id": "3rfU3mMSTI3P",
        "outputId": "7ceefeac-b3da-475f-ea54-eac1cd7a6fc0"
      },
      "execution_count": 10,
      "outputs": [
        {
          "output_type": "display_data",
          "data": {
            "text/plain": [
              "<Figure size 640x480 with 1 Axes>"
            ],
            "image/png": "[encoded data removed]"
          },
          "metadata": {}
        }
      ]
    },
    {
      "cell_type": "markdown",
      "source": [
        "### 2) Calculate the percentage of restaurants that serve each of the top cuisines."
      ],
      "metadata": {
        "id": "WO6NOJbdUFsL"
      }
    },
    {
      "cell_type": "code",
      "source": [
        "total_restaurant = len(df)\n",
        "print(total_restaurant)\n",
        "top_cuisine10=cuisine_count.head()\n",
        "percentages = (top_cuisine10 / total_restaurant) * 100\n",
        "print(\"The Market share of Top 5 Cuisines are : \",percentages)"
      ],
      "metadata": {
        "colab": {
          "base_uri": "https://localhost:8080/"
        },
        "id": "72phxWOYTVFP",
        "outputId": "f07f5aec-b0bb-4f75-c99c-eec900325593"
      },
      "execution_count": 11,
      "outputs": [
        {
          "output_type": "stream",
          "name": "stdout",
          "text": [
            "9551\n",
            "The Market share of Top 5 Cuisines are :  Cuisines\n",
            "North Indian    41.461627\n",
            "Chinese         28.635745\n",
            "Fast Food       20.793634\n",
            "Mughlai         10.417757\n",
            "Italian          7.999162\n",
            "Name: count, dtype: float64\n"
          ]
        }
      ]
    },
    {
      "cell_type": "code",
      "source": [
        "plt.bar(top_cuisine10.index, percentages.values, color=colours)\n",
        "plt.xlabel('Cuisine Name')\n",
        "plt.ylabel('Percentage')\n",
        "plt.title('Top five Cuisines %')\n",
        "plt.figure(figsize=(12,6))\n",
        "plt.show()"
      ],
      "metadata": {
        "colab": {
          "base_uri": "https://localhost:8080/",
          "height": 489
        },
        "id": "3j3VDm0XUZde",
        "outputId": "9d350b31-7a81-4b9a-922f-5d8e15698570"
      },
      "execution_count": 12,
      "outputs": [
        {
          "output_type": "display_data",
          "data": {
            "text/plain": [
              "<Figure size 640x480 with 1 Axes>"
            ],
            "image/png": "[encoded data removed]"
          },
          "metadata": {}
        },
        {
          "output_type": "display_data",
          "data": {
            "text/plain": [
              "<Figure size 1200x600 with 0 Axes>"
            ]
          },
          "metadata": {}
        }
      ]
    },
    {
      "cell_type": "markdown",
      "source": [
        "## ***Task 2: City Analysis***"
      ],
      "metadata": {
        "id": "QY9ijni1UkuZ"
      }
    },
    {
      "cell_type": "markdown",
      "source": [
        "### 1) Identify the city with the highest number of restaurants in the dataset."
      ],
      "metadata": {
        "id": "93eArUcoVJVJ"
      }
    },
    {
      "cell_type": "code",
      "source": [
        "city_count = df['City'].value_counts()\n",
        "restaurants_no = city_count.head(1)\n",
        "print(\"City with the highest number of restaurants : \", city_count.idxmax())\n",
        "print(restaurants_no)"
      ],
      "metadata": {
        "colab": {
          "base_uri": "https://localhost:8080/"
        },
        "id": "cBmtQCAoUwC9",
        "outputId": "08dd783c-0ad6-45fe-8468-6fa7d85bae84"
      },
      "execution_count": 13,
      "outputs": [
        {
          "output_type": "stream",
          "name": "stdout",
          "text": [
            "City with the highest number of restaurants :  New Delhi\n",
            "City\n",
            "New Delhi    5473\n",
            "Name: count, dtype: int64\n"
          ]
        }
      ]
    },
    {
      "cell_type": "markdown",
      "source": [
        "### 2) Calculate the average rating for restaurants in each city. Determine the city with the highest average rating."
      ],
      "metadata": {
        "id": "LprdJ6-MWFMa"
      }
    },
    {
      "cell_type": "code",
      "source": [
        "rating_by_each_city= df.groupby('City')['Aggregate rating'].mean()\n",
        "print(\"The average Rating of each city : \",rating_by_each_city)"
      ],
      "metadata": {
        "colab": {
          "base_uri": "https://localhost:8080/"
        },
        "id": "u03a_ErdVaAl",
        "outputId": "e6d6dd11-9665-481b-c7c9-3afbf86b0e1e"
      },
      "execution_count": 14,
      "outputs": [
        {
          "output_type": "stream",
          "name": "stdout",
          "text": [
            "The average Rating of each city :  City\n",
            "Abu Dhabi          4.300000\n",
            "Agra               3.965000\n",
            "Ahmedabad          4.161905\n",
            "Albany             3.555000\n",
            "Allahabad          3.395000\n",
            "                     ...   \n",
            "Weirton            3.900000\n",
            "Wellington City    4.250000\n",
            "Winchester Bay     3.200000\n",
            "Yorkton            3.300000\n",
            "��stanbul          4.292857\n",
            "Name: Aggregate rating, Length: 141, dtype: float64\n"
          ]
        }
      ]
    },
    {
      "cell_type": "code",
      "source": [
        "top_rated_city=rating_by_each_city.idxmax()\n",
        "value=rating_by_each_city.max()\n",
        "print(\"The city With Highest Avg. Rating is : \",top_rated_city,\",\",\"Rating =\",value)"
      ],
      "metadata": {
        "colab": {
          "base_uri": "https://localhost:8080/"
        },
        "id": "XHG5mtFSVdt5",
        "outputId": "0fc7be03-e91f-4ce1-c1a9-4aae952b6a83"
      },
      "execution_count": 15,
      "outputs": [
        {
          "output_type": "stream",
          "name": "stdout",
          "text": [
            "The city With Highest Avg. Rating is :  Inner City , Rating = 4.9\n"
          ]
        }
      ]
    },
    {
      "cell_type": "markdown",
      "source": [
        "## ***Task 3: Price Range Distribution***"
      ],
      "metadata": {
        "id": "w8Z466w6Wqm6"
      }
    },
    {
      "cell_type": "markdown",
      "source": [
        "### 1) Create a histogram or bar chart to visualize the distribution of price ranges among the restaurants."
      ],
      "metadata": {
        "id": "5EBA2AKyW015"
      }
    },
    {
      "cell_type": "code",
      "source": [
        "df.hist(column=\"Price range\")\n",
        "plt.title('Distribution of Price Ranges')\n",
        "plt.xlabel('Price Range')\n",
        "plt.ylabel('Counts')\n",
        "plt.show()"
      ],
      "metadata": {
        "colab": {
          "base_uri": "https://localhost:8080/",
          "height": 472
        },
        "id": "-SzsDawTWzQC",
        "outputId": "b3e149a9-6e57-4525-aab7-dbe6dacb9203"
      },
      "execution_count": 16,
      "outputs": [
        {
          "output_type": "display_data",
          "data": {
            "text/plain": [
              "<Figure size 640x480 with 1 Axes>"
            ],
            "image/png": "[encoded data removed]"
          },
          "metadata": {}
        }
      ]
    },
    {
      "cell_type": "markdown",
      "source": [
        "### 2) Calculate the percentage of restaurants in each price range category."
      ],
      "metadata": {
        "id": "dIKG1i8mXJKC"
      }
    },
    {
      "cell_type": "code",
      "source": [
        "price_range_count=df[\"Price range\"].value_counts()\n",
        "total_restaurant = len(df)\n",
        "percentage = round((price_range_count/total_restaurant)*100,2)\n",
        "percentage_m= pd.merge(price_range_count, percentage,on=\"Price range\")\n",
        "print(\"The %  of Resturent in each Price Range Category are : \",percentage_m)"
      ],
      "metadata": {
        "colab": {
          "base_uri": "https://localhost:8080/"
        },
        "id": "0AQWXbX5XCZT",
        "outputId": "a96d5213-12aa-4198-a6ca-e4126bd08b28"
      },
      "execution_count": 17,
      "outputs": [
        {
          "output_type": "stream",
          "name": "stdout",
          "text": [
            "The %  of Resturent in each Price Range Category are :               count_x  count_y\n",
            "Price range                  \n",
            "1               4444    46.53\n",
            "2               3113    32.59\n",
            "3               1408    14.74\n",
            "4                586     6.14\n"
          ]
        }
      ]
    },
    {
      "cell_type": "code",
      "source": [
        "plt.pie(percentage,labels=percentage.index,autopct='%1.1f%%',colors=[\"yellow\",\"lightgreen\",\"pink\",\"silver\"])\n",
        "plt.title(\"Price range percentage \")\n",
        "plt.show()"
      ],
      "metadata": {
        "colab": {
          "base_uri": "https://localhost:8080/",
          "height": 428
        },
        "id": "Ky1USvnSXOvh",
        "outputId": "4721893f-4c0c-4556-c6d1-60384803f1d6"
      },
      "execution_count": 18,
      "outputs": [
        {
          "output_type": "display_data",
          "data": {
            "text/plain": [
              "<Figure size 640x480 with 1 Axes>"
            ],
            "image/png": "[encoded data removed]"
          },
          "metadata": {}
        }
      ]
    },
    {
      "cell_type": "markdown",
      "source": [
        "## ***Task 4: Online Delivery***"
      ],
      "metadata": {
        "id": "lNYg8w0PXbHA"
      }
    },
    {
      "cell_type": "markdown",
      "source": [
        "### 1) Determine the percentage of restaurants that offer online delivery."
      ],
      "metadata": {
        "id": "YCaj_TsxXlGC"
      }
    },
    {
      "cell_type": "code",
      "source": [
        "online_delivery= df['Has Online delivery'].value_counts().get('Yes', 0)\n",
        "print(\"Total Restaurant with Online Delivery : \",online_delivery)"
      ],
      "metadata": {
        "colab": {
          "base_uri": "https://localhost:8080/"
        },
        "id": "FosG5PgAXrRB",
        "outputId": "0d64bd01-228c-4f0d-850b-2a8a55695ba7"
      },
      "execution_count": 22,
      "outputs": [
        {
          "output_type": "stream",
          "name": "stdout",
          "text": [
            "Total Restaurant with Online Delivery :  2451\n"
          ]
        }
      ]
    },
    {
      "cell_type": "code",
      "source": [
        "no= df['Has Online delivery'].value_counts().get('No', 0)\n",
        "print(\"Restaurant with NO Online Delivery : \",no)"
      ],
      "metadata": {
        "colab": {
          "base_uri": "https://localhost:8080/"
        },
        "id": "ZZnkL0WTXkXi",
        "outputId": "04fac816-1833-46b7-e8d5-7616b2a27a4a"
      },
      "execution_count": 23,
      "outputs": [
        {
          "output_type": "stream",
          "name": "stdout",
          "text": [
            "Restaurant with NO Online Delivery :  7100\n"
          ]
        }
      ]
    },
    {
      "cell_type": "code",
      "source": [
        "Row_count= len(df)\n",
        "percentage_of_online_delivery= round((online_delivery/Row_count)*100,2)\n",
        "print(\"ToTal % of Online Delivery :\", percentage_of_online_delivery)"
      ],
      "metadata": {
        "colab": {
          "base_uri": "https://localhost:8080/"
        },
        "id": "hKEqSi4bYuIK",
        "outputId": "98efb97a-a61f-4141-949d-ae2a9c6e2d95"
      },
      "execution_count": 24,
      "outputs": [
        {
          "output_type": "stream",
          "name": "stdout",
          "text": [
            "ToTal % of Online Delivery : 25.66\n"
          ]
        }
      ]
    },
    {
      "cell_type": "code",
      "source": [
        "percentage_of_NO_online_delivery =round((no/Row_count)*100,2)\n",
        "print(\"Total % where Online Delivery is not present : \",percentage_of_NO_online_delivery)"
      ],
      "metadata": {
        "colab": {
          "base_uri": "https://localhost:8080/"
        },
        "id": "LHV_OF-zaQzC",
        "outputId": "c3666cf5-207a-40b4-d554-996bb4b26c2d"
      },
      "execution_count": 25,
      "outputs": [
        {
          "output_type": "stream",
          "name": "stdout",
          "text": [
            "Total % where Online Delivery is not present :  74.34\n"
          ]
        }
      ]
    },
    {
      "cell_type": "markdown",
      "source": [
        "### 2) Compare the average ratings of restaurants with and without online delivery."
      ],
      "metadata": {
        "id": "boXgi820aZKJ"
      }
    },
    {
      "cell_type": "code",
      "source": [
        "Avg_rating_yes= round(df[df['Has Online delivery'] == 'Yes']['Aggregate rating'].mean(),2)\n",
        "print(\"Average Rating With online Delivery : \",Avg_rating_yes)"
      ],
      "metadata": {
        "colab": {
          "base_uri": "https://localhost:8080/"
        },
        "id": "Kjtkcnp8aUQG",
        "outputId": "43a12600-e96c-4cc3-b1e0-9a3f8c3fed39"
      },
      "execution_count": 26,
      "outputs": [
        {
          "output_type": "stream",
          "name": "stdout",
          "text": [
            "Average Rating With online Delivery :  3.25\n"
          ]
        }
      ]
    },
    {
      "cell_type": "code",
      "source": [
        "Avg_rating_No= round(df[df['Has Online delivery'] == 'No']['Aggregate rating'].mean(),2)\n",
        "print(\"Average Rating Without online Delivery : \",Avg_rating_No)"
      ],
      "metadata": {
        "colab": {
          "base_uri": "https://localhost:8080/"
        },
        "id": "KznPGUvMafMR",
        "outputId": "3747bc90-4642-4c39-9913-903567de36f2"
      },
      "execution_count": 27,
      "outputs": [
        {
          "output_type": "stream",
          "name": "stdout",
          "text": [
            "Average Rating Without online Delivery :  2.47\n"
          ]
        }
      ]
    },
    {
      "cell_type": "code",
      "source": [
        "labels = ['YES', 'NO']\n",
        "average_rating = [Avg_rating_yes, Avg_rating_No]\n",
        "colors='green','yellow'\n",
        "plt.barh(labels, average_rating, color=colors)\n",
        "plt.ylabel('Online Delivery')\n",
        "plt.xlabel('Average Rating')\n",
        "plt.title('Comparison of Average Ratings of Online delivery')\n",
        "plt.show()"
      ],
      "metadata": {
        "colab": {
          "base_uri": "https://localhost:8080/",
          "height": 472
        },
        "id": "HCOCP7QVah_a",
        "outputId": "438054ef-57b6-452c-c2f3-334d172eaa51"
      },
      "execution_count": 28,
      "outputs": [
        {
          "output_type": "display_data",
          "data": {
            "text/plain": [
              "<Figure size 640x480 with 1 Axes>"
            ],
            "image/png": "[encoded data removed]"
          },
          "metadata": {}
        }
      ]
    }
  ]
}